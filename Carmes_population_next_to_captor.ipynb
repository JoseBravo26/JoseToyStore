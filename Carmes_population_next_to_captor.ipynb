from IPython import get_ipython
from IPython.display import display
# %%
from google.colab import drive
drive.mount('/content/drive')
# %%
#Read CSV
import pandas as pd
df_station = pd.read_csv('/content/drive/MyDrive/urban-heat-analysis/toulouse_metropol_data/stations-meteo-en-place.csv', sep=';')
df_pop = pd.read_csv('/content/drive/MyDrive/urban-heat-analysis/toulouse_metropol_data/recensement-population-2020-grands-quartiers-population.csv', sep=';')
# %%
#Keep only column Geo Point, Geo Shape, IB_GRD_QUART and P20_POP as df_pop_filter
df_pop_filter = df_pop[['Geo Point', 'Geo Shape', 'LIB_GRD_QUART', 'P20_POP']]
# %%
#Take Geo Shape as dictionary
import json
df_pop_filter['Geo Shape'] = df_pop_filter['Geo Shape'].apply(json.loads)
# %%
# Libraries for mapping and distance calculations
!pip install folium==0.12.1
!pip install geopy==2.3.0
import folium
from folium.plugins import HeatMap
from geopy.distance import geodesic


#values un LIB_GRD8_QUART to keep "Saint-Cyprien", "Carmes" and "Arnaud Bernard"
top_3 = df_pop_filter[df_pop_filter['LIB_GRD_QUART'].isin(['Saint-Cyprien', 'Carmes', 'Arnaud Bernard'])]



# find the center of the map
center_lat = df_pop_filter['Geo Shape'].apply(lambda x: x['coordinates'][0][0][1]).mean()
center_lon = df_pop_filter['Geo Shape'].apply(lambda x: x['coordinates'][0][0][0]).mean()

# create a map object
m = folium.Map(location=[center_lat, center_lon], zoom_start=12)

# create a heatmap layer
from folium.plugins import HeatMap
heat_data = [[point['coordinates'][0][0][1], point['coordinates'][0][0][0], pop] for point, pop in zip(df_pop_filter['Geo Shape'], df_pop_filter['P20_POP'])]
HeatMap(heat_data).add_to(m)

# display the map
display(m)

# Function to create the map with a given sensor coordinate
def create_map(sensor_coord, top_3, df_station):  # Añade df_station como argumento
    # Crea un mapa centrado en el sensor
    m_interactive = folium.Map(location=sensor_coord, zoom_start=12)

    # Agrega marcadores para cada punto de población con popups
    for _, row in df_pop_filter.iterrows():
        coords = row['Geo Shape']['coordinates'][0][0][::-1]
        popup_text = f"Barrio: {row['LIB_GRD_QUART']}<br>Población: {row['P20_POP']}"
        # Puedes añadir más información aquí, por ejemplo:
        #popup_text += f"<br>Otra información: {row['otra_columna']}"  # Reemplaza 'otra_columna' con el nombre de la columna que quieras mostrar
        folium.Marker(location=coords, popup=popup_text).add_to(m_interactive)


    # Crea una capa de mapa de calor con todos los puntos de población
    heat_data = [[point['coordinates'][0][0][1], point['coordinates'][0][0][0], pop] for point, pop in zip(df_pop_filter['Geo Shape'], df_pop_filter['P20_POP'])]
    HeatMap(heat_data, radius=15).add_to(m_interactive)

    # Agrega todos los shapes GeoJson al mapa
    for _, row in df_pop_filter.iterrows():
        color = 'blue'
        fill_opacity = 0.2
        weight = 2
        
        # Comprueba si el barrio está en top_3
        if row['LIB_GRD_QUART'] in top_3['LIB_GRD_QUART'].values:
            color = 'red'
            fill_opacity = 0.4
            weight = 3
        
        folium.GeoJson(
            row['Geo Shape'],
            style_function=lambda x, color=color, fill_opacity=fill_opacity, weight=weight: {
                'fillColor': color,
                'color': color,
                'fillOpacity': fill_opacity,
                'weight': weight
            },
            popup=folium.Popup(f"Barrio: {row['LIB_GRD_QUART']}<br>Población: {row['P20_POP']}")
        ).add_to(m_interactive)

    # Itera sobre las filas de df_station y añade un marcador para cada captor
    for _, row in df_station.iterrows():
        lat, lon = map(float, row['geopoint'].split(', ')) 
        coords = (lat, lon)
        popup_text = "Sensor de Temperatura"
        # Puedes añadir más información aquí, por ejemplo:
        popup_text += f"<br>ID del sensor: {row['id_nom']}"  # Reemplaza 'sensor_id' con el nombre de la columna que quieras mostrar
        folium.Marker(
            location=coords,
            popup=popup_text,
            icon=folium.Icon(color='red', icon='thermometer-half')
        ).add_to(m_interactive)

    return m_interactive


# Crea y muestra el mapa (recuerda pasar df_station como argumento)
m = create_map(sensor_coord, top_3, df_station) 
display(m)

# Function to create the map with a given sensor coordinate
def create_map(sensor_coord):
    # Calculate distances to the sensor for all points
    df_pop_filter['Distance_to_Sensor'] = df_pop_filter['Geo Shape'].apply(lambda x: geodesic(x['coordinates'][0][0][::-1], sensor_coord).meters)

    # Filter population points within 300 meters of the sensor
    df_nearby_pop = df_pop_filter[df_pop_filter['Distance_to_Sensor'] <= 600]

    # Create a map centered around the sensor
    m_interactive = folium.Map(location=sensor_coord, zoom_start=16)

    # Add a marker for the temperature sensor
    folium.Marker(
        location=sensor_coord,
        popup="Temperature Sensor",
        icon=folium.Icon(color='green', icon='thermometer-half')
    ).add_to(m_interactive)

    # Add a circle to mark the 300m radius around the sensor
    folium.Circle(
        location=sensor_coord,
        radius=300,
        color='red',
        fill=True,
        fill_color='red',
        fill_opacity=0.2
    ).add_to(m_interactive)

    # Add markers for each nearby population point with popups
    for _, row in df_nearby_pop.iterrows():
        coords = row['Geo Shape']['coordinates'][0][0][::-1]
        popup_text = f"Neighborhood: {row['LIB_GRD_QUART']}<br>Population: {row['P20_POP']}"
        folium.Marker(location=coords, popup=popup_text).add_to(m_interactive)

    # Create a heatmap layer with nearby population points
    heat_data_nearby_sensor = [[point['coordinates'][0][0][1], point['coordinates'][0][0][0], pop] for point, pop in zip(df_nearby_pop['Geo Shape'], df_nearby_pop['P20_POP'])]
    HeatMap(heat_data_nearby_sensor, radius=15).add_to(m_interactive)

    # Add GeoJson shapes that intersect with the 300m radius
    for _, row in df_nearby_pop.iterrows():
        folium.GeoJson(row['Geo Shape'], name='Geo Shape').add_to(m_interactive)

    return m_interactive

# Set your desired sensor coordinates here
sensor_coord = (43.59769029, 1.445442331)  #CARMES

# Create and display the map
m = create_map(sensor_coord)
display(m)

from shapely.geometry import Point, Polygon, shape
from geopy.distance import geodesic
import folium
from folium.plugins import HeatMap

# Function to create the map with a given sensor coordinate
def create_map(sensor_coord):
    # Create a Point object for the sensor
    sensor_point = Point(sensor_coord[1], sensor_coord[0])
    
    # Create a circular buffer around the sensor
    buffer = sensor_point.buffer(300 / 111000)  # Approximate conversion from meters to degrees

    # Filter shapes that intersect with the buffer
    df_pop_filter['Intersects'] = df_pop_filter['Geo Shape'].apply(lambda x: shape(x).intersects(buffer))
    df_nearby_pop = df_pop_filter[df_pop_filter['Intersects']]

    # Create a map centered around the sensor
    m_interactive = folium.Map(location=sensor_coord, zoom_start=16)

    # Add a marker for the temperature sensor
    folium.Marker(
        location=sensor_coord,
        popup="Temperature Sensor",
        icon=folium.Icon(color='green', icon='thermometer-half')
    ).add_to(m_interactive)

    # Add a circle to mark the 300m radius around the sensor
    folium.Circle(
        location=sensor_coord,
        radius=300,
        color='red',
        fill=True,
        fill_color='red',
        fill_opacity=0.2
    ).add_to(m_interactive)

    # Add markers for each nearby population point with popups
    for _, row in df_nearby_pop.iterrows():
        coords = row['Geo Shape']['coordinates'][0][0][::-1]
        popup_text = f"Neighborhood: {row['LIB_GRD_QUART']}<br>Population: {row['P20_POP']}"
        folium.Marker(location=coords, popup=popup_text).add_to(m_interactive)

    # Create a heatmap layer with nearby population points
    heat_data_nearby_sensor = [[point['coordinates'][0][0][1], point['coordinates'][0][0][0], pop] for point, pop in zip(df_nearby_pop['Geo Shape'], df_nearby_pop['P20_POP'])]
    HeatMap(heat_data_nearby_sensor, radius=15).add_to(m_interactive)

    # Add GeoJson shapes that intersect with the 300m radius
    for _, row in df_nearby_pop.iterrows():
        folium.GeoJson(row['Geo Shape'], 
                       name='Geo Shape',
                       style_function=lambda x: {'fillColor': 'blue', 'color': 'black', 'weight': 2, 'fillOpacity': 0.1}
                      ).add_to(m_interactive)

    return m_interactive

# Set your desired sensor coordinates here
sensor_coord = (43.59769029, 1.445442331)  #CARMES

# Create and display the map
m = create_map(sensor_coord)
display(m)

# Calculate distances to the sensor for all points
df_pop_filter['Distance_to_Sensor'] = df_pop_filter['Geo Shape'].apply(lambda x: geodesic(x['coordinates'][0][0][::-1], sensor_coord).meters)

# Filter population points within 400 meters of the sensor
df_nearby_pop = df_pop_filter[df_pop_filter['Distance_to_Sensor'] <= 400]

# Calculate the sum of the population within the radius
total_population_nearby = df_nearby_pop['P20_POP'].sum()

print(f"Total population within 400 meters of the sensor: {total_population_nearby}")
